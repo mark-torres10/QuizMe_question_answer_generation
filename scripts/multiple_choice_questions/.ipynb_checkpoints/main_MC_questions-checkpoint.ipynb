{
 "cells": [
  {
   "cell_type": "code",
   "execution_count": 1,
   "metadata": {},
   "outputs": [],
   "source": [
    "import os\n",
    "import nltk\n",
    "#nltk.download('stopwords')\n",
    "#nltk.download('popular')\n"
   ]
  },
  {
   "cell_type": "code",
   "execution_count": 2,
   "metadata": {},
   "outputs": [
    {
     "name": "stderr",
     "output_type": "stream",
     "text": [
      "/Users/mark/opt/anaconda3/envs/test_qa_venv/lib/python3.6/site-packages/tensorflow/python/framework/dtypes.py:516: FutureWarning: Passing (type, 1) or '1type' as a synonym of type is deprecated; in a future version of numpy, it will be understood as (type, (1,)) / '(1,)type'.\n",
      "  _np_qint8 = np.dtype([(\"qint8\", np.int8, 1)])\n",
      "/Users/mark/opt/anaconda3/envs/test_qa_venv/lib/python3.6/site-packages/tensorflow/python/framework/dtypes.py:517: FutureWarning: Passing (type, 1) or '1type' as a synonym of type is deprecated; in a future version of numpy, it will be understood as (type, (1,)) / '(1,)type'.\n",
      "  _np_quint8 = np.dtype([(\"quint8\", np.uint8, 1)])\n",
      "/Users/mark/opt/anaconda3/envs/test_qa_venv/lib/python3.6/site-packages/tensorflow/python/framework/dtypes.py:518: FutureWarning: Passing (type, 1) or '1type' as a synonym of type is deprecated; in a future version of numpy, it will be understood as (type, (1,)) / '(1,)type'.\n",
      "  _np_qint16 = np.dtype([(\"qint16\", np.int16, 1)])\n",
      "/Users/mark/opt/anaconda3/envs/test_qa_venv/lib/python3.6/site-packages/tensorflow/python/framework/dtypes.py:519: FutureWarning: Passing (type, 1) or '1type' as a synonym of type is deprecated; in a future version of numpy, it will be understood as (type, (1,)) / '(1,)type'.\n",
      "  _np_quint16 = np.dtype([(\"quint16\", np.uint16, 1)])\n",
      "/Users/mark/opt/anaconda3/envs/test_qa_venv/lib/python3.6/site-packages/tensorflow/python/framework/dtypes.py:520: FutureWarning: Passing (type, 1) or '1type' as a synonym of type is deprecated; in a future version of numpy, it will be understood as (type, (1,)) / '(1,)type'.\n",
      "  _np_qint32 = np.dtype([(\"qint32\", np.int32, 1)])\n",
      "/Users/mark/opt/anaconda3/envs/test_qa_venv/lib/python3.6/site-packages/tensorflow/python/framework/dtypes.py:525: FutureWarning: Passing (type, 1) or '1type' as a synonym of type is deprecated; in a future version of numpy, it will be understood as (type, (1,)) / '(1,)type'.\n",
      "  np_resource = np.dtype([(\"resource\", np.ubyte, 1)])\n",
      "/Users/mark/opt/anaconda3/envs/test_qa_venv/lib/python3.6/site-packages/tensorboard/compat/tensorflow_stub/dtypes.py:541: FutureWarning: Passing (type, 1) or '1type' as a synonym of type is deprecated; in a future version of numpy, it will be understood as (type, (1,)) / '(1,)type'.\n",
      "  _np_qint8 = np.dtype([(\"qint8\", np.int8, 1)])\n",
      "/Users/mark/opt/anaconda3/envs/test_qa_venv/lib/python3.6/site-packages/tensorboard/compat/tensorflow_stub/dtypes.py:542: FutureWarning: Passing (type, 1) or '1type' as a synonym of type is deprecated; in a future version of numpy, it will be understood as (type, (1,)) / '(1,)type'.\n",
      "  _np_quint8 = np.dtype([(\"quint8\", np.uint8, 1)])\n",
      "/Users/mark/opt/anaconda3/envs/test_qa_venv/lib/python3.6/site-packages/tensorboard/compat/tensorflow_stub/dtypes.py:543: FutureWarning: Passing (type, 1) or '1type' as a synonym of type is deprecated; in a future version of numpy, it will be understood as (type, (1,)) / '(1,)type'.\n",
      "  _np_qint16 = np.dtype([(\"qint16\", np.int16, 1)])\n",
      "/Users/mark/opt/anaconda3/envs/test_qa_venv/lib/python3.6/site-packages/tensorboard/compat/tensorflow_stub/dtypes.py:544: FutureWarning: Passing (type, 1) or '1type' as a synonym of type is deprecated; in a future version of numpy, it will be understood as (type, (1,)) / '(1,)type'.\n",
      "  _np_quint16 = np.dtype([(\"quint16\", np.uint16, 1)])\n",
      "/Users/mark/opt/anaconda3/envs/test_qa_venv/lib/python3.6/site-packages/tensorboard/compat/tensorflow_stub/dtypes.py:545: FutureWarning: Passing (type, 1) or '1type' as a synonym of type is deprecated; in a future version of numpy, it will be understood as (type, (1,)) / '(1,)type'.\n",
      "  _np_qint32 = np.dtype([(\"qint32\", np.int32, 1)])\n",
      "/Users/mark/opt/anaconda3/envs/test_qa_venv/lib/python3.6/site-packages/tensorboard/compat/tensorflow_stub/dtypes.py:550: FutureWarning: Passing (type, 1) or '1type' as a synonym of type is deprecated; in a future version of numpy, it will be understood as (type, (1,)) / '(1,)type'.\n",
      "  np_resource = np.dtype([(\"resource\", np.ubyte, 1)])\n"
     ]
    }
   ],
   "source": [
    "# load BERT's summarizer, which we'll use to make summaries of our text\n",
    "from summarizer import Summarizer"
   ]
  },
  {
   "cell_type": "code",
   "execution_count": 3,
   "metadata": {},
   "outputs": [
    {
     "name": "stderr",
     "output_type": "stream",
     "text": [
      "Warming up PyWSD (takes ~10 secs)... took 30.87401008605957 secs.\n"
     ]
    }
   ],
   "source": [
    "import pprint\n",
    "import itertools\n",
    "import re\n",
    "import pke\n",
    "import string\n",
    "from nltk.corpus import stopwords\n",
    "from nltk.tokenize import sent_tokenize\n",
    "from flashtext import KeywordProcessor\n",
    "import requests\n",
    "import json\n",
    "import random\n",
    "import pywsd\n",
    "from pywsd.similarity import max_similarity\n",
    "from pywsd.lesk import adapted_lesk\n",
    "from pywsd.lesk import simple_lesk\n",
    "from pywsd.lesk import cosine_lesk\n",
    "from nltk.corpus import wordnet as wn"
   ]
  },
  {
   "cell_type": "markdown",
   "metadata": {},
   "source": [
    "### Part I: Let's load in our file\n",
    "\n",
    "For the purposes of this demo, we'll load a file called `\"australia.txt\"`, which is just a snippet of the Wikipedia entry for Australia. "
   ]
  },
  {
   "cell_type": "code",
   "execution_count": 4,
   "metadata": {},
   "outputs": [],
   "source": [
    "with open(\"../../sample_texts/australia.txt\") as f:\n",
    "    text = f.read()"
   ]
  },
  {
   "cell_type": "code",
   "execution_count": 5,
   "metadata": {},
   "outputs": [
    {
     "data": {
      "text/plain": [
       "\"Australia, officially known as the Commonwealth of Australia, is a sovereign country comprising the mainland of the Australian continent, the island of Tasmania, and numerous smaller islands. It is the largest country in Oceania and the world's sixth-largest country by total area. The population of 26 million is highly urbanised and heavily concentrated on the eastern seaboard. Australia's capital is Canberra, and its largest city is Sydney. The country's other major metropolitan areas are Melbourne, Brisbane, Perth, and Adelaide. Indigenous Australians inhabited the continent for about 65,000 years prior to the first arrival of Dutch explorers in the early 17th century, who named it New Holland. In 1770, Australia's eastern half was claimed by Great Britain and initially settled through penal transportation to the colony of New South Wales from 26 January 1788, a date which became Australia's national day. The population grew steadily in subsequent decades, and by the time of an 1850s gold rush, most of the continent had been explored by European settlers and an additional five self-governing crown colonies established. On 1 January 1901, the six colonies federated, forming the Commonwealth of Australia. Australia has since maintained a stable liberal democratic political system that functions as a federal parliamentary constitutional monarchy, comprising six states and ten territories.\\n\""
      ]
     },
     "execution_count": 5,
     "metadata": {},
     "output_type": "execute_result"
    }
   ],
   "source": [
    "text"
   ]
  },
  {
   "cell_type": "markdown",
   "metadata": {},
   "source": [
    "### Part II: Set up our BERT summarizer"
   ]
  },
  {
   "cell_type": "code",
   "execution_count": 6,
   "metadata": {},
   "outputs": [],
   "source": [
    "model = Summarizer()"
   ]
  },
  {
   "cell_type": "code",
   "execution_count": 7,
   "metadata": {},
   "outputs": [],
   "source": [
    "# wrap the text in a Bert Summarizer object\n",
    "result = model(text, \n",
    "               min_length = 30, \n",
    "               max_length = 500, \n",
    "               ratio = 0.5)"
   ]
  },
  {
   "cell_type": "code",
   "execution_count": 8,
   "metadata": {},
   "outputs": [],
   "source": [
    "summarized_text = ''.join(result)"
   ]
  },
  {
   "cell_type": "code",
   "execution_count": 9,
   "metadata": {},
   "outputs": [
    {
     "name": "stdout",
     "output_type": "stream",
     "text": [
      "Australia, officially known as the Commonwealth of Australia, is a sovereign country comprising the mainland of the Australian continent, the island of Tasmania, and numerous smaller islands. Australia's capital is Canberra, and its largest city is Sydney. In 1770, Australia's eastern half was claimed by Great Britain and initially settled through penal transportation to the colony of New South Wales from 26 January 1788, a date which became Australia's national day. The population grew steadily in subsequent decades, and by the time of an 1850s gold rush, most of the continent had been explored by European settlers and an additional five self-governing crown colonies established. On 1 January 1901, the six colonies federated, forming the Commonwealth of Australia.\n"
     ]
    }
   ],
   "source": [
    "print(summarized_text) # BERT Summarizer only uses a subject of the text"
   ]
  },
  {
   "cell_type": "markdown",
   "metadata": {},
   "source": [
    "### Part III: Keyword Extraction\n",
    "\n",
    "Our next step is to determine the important keywords for the text. We need to find what these keywords are, then we'll map the sentences to these keywords to get the sentences that relate to a given keyword. "
   ]
  },
  {
   "cell_type": "code",
   "execution_count": 10,
   "metadata": {},
   "outputs": [],
   "source": [
    "def get_nouns_multipartite(text):\n",
    "    \n",
    "    \"\"\"\n",
    "    \n",
    "        Determines what nouns are important by using the TopicRank algorithm, \n",
    "        which is implemented on a multipartite graph. It builds on top of the TextRank algorithm\n",
    "        by implementing a graph-based model derived from the PageRank algorithm. \n",
    "        \n",
    "        The following are relevant resources for this algorithm:\n",
    "            https://www.aclweb.org/anthology/I13-1062.pdf\n",
    "            https://smirnov-am.github.io/extracting-keyphrases-from-texts-unsupervised-algorithm-topicrank/\n",
    "            https://github.com/smirnov-am/pytopicrank\n",
    "        \n",
    "        In short, the algorithm works as follows:\n",
    "            1. Use nltk to identify part-of-speech (POS)\n",
    "            2. Identify longest sequences of adjectives and nouns, and these will constitute our keyphrases\n",
    "            3. Convert each keyphrase into term frequency vectors using Bag-of-Words (BOW)\n",
    "            4. Find clusters of keyphrases, using Hierarchical Agglomerative Clustering (HAC)\n",
    "            5. Use clusters as graph vertices, and sum of distances between each keyphare of topic pairs as edge weight\n",
    "            6. Apply PageRank to identify most prominent topics\n",
    "            7. For topN topics extract most significant keyphrases that represent this topic\n",
    "    \n",
    "    \"\"\"\n",
    "    \n",
    "    output = []\n",
    "    \n",
    "    # initialize our multipartite graph keyphrase extraction model\n",
    "    extractor = pke.unsupervised.MultipartiteRank()\n",
    "    \n",
    "    extractor.load_document(input=text)\n",
    "    \n",
    "    # get the POS that we're looking for\n",
    "    pos = {'PROPN', 'ADJ', 'NOUN'}\n",
    "    \n",
    "    # get stoplist, words to avoid\n",
    "    stoplist = list(string.punctuation)\n",
    "    stoplist += ['-lrb-', '-rrb-', '-lcb-', '-rcb-', '-lsb-', '-rsb-']\n",
    "    stoplist += stopwords.words('english')\n",
    "    \n",
    "    # select the longest sequence of nouns, adjectives, that do not contain punctuation marks or stopwords\n",
    "    # and let's choose these as our candidates\n",
    "    extractor.candidate_selection(pos=pos, stoplist=stoplist)\n",
    "    \n",
    "    # build Multipartite graph and rank candidates using random walk\n",
    "    extractor.candidate_weighting(alpha=1.1,\n",
    "                                  threshold=0.75,\n",
    "                                  method='average')\n",
    "    \n",
    "    # get the 20-highest scored candidates, and let's use these as keyphrases\n",
    "    keyphrases = extractor.get_n_best(n=20)\n",
    "    \n",
    "    for key in keyphrases:\n",
    "        output.append(key[0])\n",
    "        \n",
    "    return output\n",
    "    \n",
    "    "
   ]
  },
  {
   "cell_type": "code",
   "execution_count": 28,
   "metadata": {},
   "outputs": [
    {
     "data": {
      "text/plain": [
       "['australia',\n",
       " 'island',\n",
       " 'colony',\n",
       " 'australian continent',\n",
       " 'january',\n",
       " 'commonwealth',\n",
       " 'tasmania',\n",
       " 'capital',\n",
       " 'new south wales',\n",
       " 'canberra',\n",
       " 'numerous smaller islands',\n",
       " 'mainland',\n",
       " 'largest city',\n",
       " 'national day',\n",
       " 'sydney',\n",
       " 'eastern half',\n",
       " 'sovereign country',\n",
       " 'penal transportation',\n",
       " 'date',\n",
       " 'great britain']"
      ]
     },
     "execution_count": 28,
     "metadata": {},
     "output_type": "execute_result"
    }
   ],
   "source": [
    "get_nouns_multipartite(summarized_text)"
   ]
  },
  {
   "cell_type": "markdown",
   "metadata": {},
   "source": [
    "Now, let's get our keywords that we'll use"
   ]
  },
  {
   "cell_type": "code",
   "execution_count": 11,
   "metadata": {},
   "outputs": [
    {
     "name": "stdout",
     "output_type": "stream",
     "text": [
      "['australia', 'sovereign country', 'australian continent', 'island', 'colony', 'eastern seaboard', 'commonwealth', 'largest country', 'new holland', 'population', 'mainland', 'continent', 'january', 'tasmania', 'capital', 'canberra', 'brisbane', 'concentrated', 'largest city', 'oceania']\n"
     ]
    }
   ],
   "source": [
    "keywords = get_nouns_multipartite(text) \n",
    "print (keywords)"
   ]
  },
  {
   "cell_type": "code",
   "execution_count": 12,
   "metadata": {},
   "outputs": [
    {
     "name": "stdout",
     "output_type": "stream",
     "text": [
      "['australia', 'sovereign country', 'australian continent', 'island', 'colony', 'commonwealth', 'population', 'mainland', 'continent', 'january', 'tasmania', 'capital', 'canberra', 'largest city']\n"
     ]
    }
   ],
   "source": [
    "# make sure that we're only getting words that were in our\n",
    "# BERT summarized text (since BERT only uses a subset for its summarization)\n",
    "filtered_keys = []\n",
    "for keyword in keywords:\n",
    "    if keyword.lower() in summarized_text.lower():\n",
    "        filtered_keys.append(keyword)\n",
    "        \n",
    "print(filtered_keys)"
   ]
  },
  {
   "cell_type": "markdown",
   "metadata": {},
   "source": [
    "### Part IV: Sentence Mapping\n",
    "\n",
    "Now, for each keyword, let's get the phrases that contain the word"
   ]
  },
  {
   "cell_type": "code",
   "execution_count": 13,
   "metadata": {},
   "outputs": [],
   "source": [
    "def tokenize_sentence(text):\n",
    "    \"\"\"\n",
    "    \n",
    "        Tokenizes our sentence\n",
    "        \n",
    "        e.g., \"How are you today?\" --> [\"How\", \"are\", \"you\", \"today?\"]\n",
    "    \n",
    "    \"\"\"\n",
    "    \n",
    "    # separate our text into sentences\n",
    "    sentences = [sent_tokenize(text)]\n",
    "    sentences = [y for x in sentences for y in x]\n",
    "    \n",
    "    # strip away spaces at beginning and end\n",
    "    sentences = [sentence.strip() for sentence in sentences]\n",
    "\n",
    "    return sentences"
   ]
  },
  {
   "cell_type": "code",
   "execution_count": 14,
   "metadata": {},
   "outputs": [],
   "source": [
    "def get_sentences_for_keyword(keywords, sentences):\n",
    "    \n",
    "    \"\"\"\n",
    "    \n",
    "        For each keyword, find the sentence(s) that correspond to that keyword\n",
    "    \n",
    "    \"\"\"\n",
    "    \n",
    "    keyword_processor = KeywordProcessor() # use this implementation as fast alternative to keyword matching\n",
    "    keyword_sentences = {}\n",
    "    \n",
    "    # loop through all keywords\n",
    "    for word in keywords:\n",
    "        keyword_sentences[word] = []\n",
    "        keyword_processor.add_keyword(word)\n",
    "        \n",
    "    # loop through each sentence and keyword\n",
    "    for sentence in sentences:\n",
    "        keywords_found = keyword_processor.extract_keywords(sentence)\n",
    "        for key in keywords_found:\n",
    "            keyword_sentences[key].append(sentence)\n",
    "            \n",
    "    for key in keyword_sentences.keys():\n",
    "        values = keyword_sentences[key]\n",
    "        values = sorted(values, key=len, reverse=True)\n",
    "        keyword_sentences[key] = values\n",
    "    \n",
    "    return keyword_sentences"
   ]
  },
  {
   "cell_type": "markdown",
   "metadata": {},
   "source": [
    "Now, let's get the sentences corresponding to our keywords"
   ]
  },
  {
   "cell_type": "code",
   "execution_count": 15,
   "metadata": {},
   "outputs": [],
   "source": [
    "sentences = tokenize_sentence(summarized_text)"
   ]
  },
  {
   "cell_type": "code",
   "execution_count": 16,
   "metadata": {},
   "outputs": [],
   "source": [
    "keyword_sentence_mapping = get_sentences_for_keyword(filtered_keys, sentences)"
   ]
  },
  {
   "cell_type": "code",
   "execution_count": 17,
   "metadata": {},
   "outputs": [
    {
     "name": "stdout",
     "output_type": "stream",
     "text": [
      "{'australia': [\"In 1770, Australia's eastern half was claimed by Great Britain and initially settled through penal transportation to the colony of New South Wales from 26 January 1788, a date which became Australia's national day.\", \"In 1770, Australia's eastern half was claimed by Great Britain and initially settled through penal transportation to the colony of New South Wales from 26 January 1788, a date which became Australia's national day.\", 'Australia, officially known as the Commonwealth of Australia, is a sovereign country comprising the mainland of the Australian continent, the island of Tasmania, and numerous smaller islands.', 'Australia, officially known as the Commonwealth of Australia, is a sovereign country comprising the mainland of the Australian continent, the island of Tasmania, and numerous smaller islands.', 'On 1 January 1901, the six colonies federated, forming the Commonwealth of Australia.', \"Australia's capital is Canberra, and its largest city is Sydney.\"], 'sovereign country': ['Australia, officially known as the Commonwealth of Australia, is a sovereign country comprising the mainland of the Australian continent, the island of Tasmania, and numerous smaller islands.'], 'australian continent': ['Australia, officially known as the Commonwealth of Australia, is a sovereign country comprising the mainland of the Australian continent, the island of Tasmania, and numerous smaller islands.'], 'island': ['Australia, officially known as the Commonwealth of Australia, is a sovereign country comprising the mainland of the Australian continent, the island of Tasmania, and numerous smaller islands.'], 'colony': [\"In 1770, Australia's eastern half was claimed by Great Britain and initially settled through penal transportation to the colony of New South Wales from 26 January 1788, a date which became Australia's national day.\"], 'commonwealth': ['Australia, officially known as the Commonwealth of Australia, is a sovereign country comprising the mainland of the Australian continent, the island of Tasmania, and numerous smaller islands.', 'On 1 January 1901, the six colonies federated, forming the Commonwealth of Australia.'], 'population': ['The population grew steadily in subsequent decades, and by the time of an 1850s gold rush, most of the continent had been explored by European settlers and an additional five self-governing crown colonies established.'], 'mainland': ['Australia, officially known as the Commonwealth of Australia, is a sovereign country comprising the mainland of the Australian continent, the island of Tasmania, and numerous smaller islands.'], 'continent': ['The population grew steadily in subsequent decades, and by the time of an 1850s gold rush, most of the continent had been explored by European settlers and an additional five self-governing crown colonies established.'], 'january': [\"In 1770, Australia's eastern half was claimed by Great Britain and initially settled through penal transportation to the colony of New South Wales from 26 January 1788, a date which became Australia's national day.\", 'On 1 January 1901, the six colonies federated, forming the Commonwealth of Australia.'], 'tasmania': ['Australia, officially known as the Commonwealth of Australia, is a sovereign country comprising the mainland of the Australian continent, the island of Tasmania, and numerous smaller islands.'], 'capital': [\"Australia's capital is Canberra, and its largest city is Sydney.\"], 'canberra': [\"Australia's capital is Canberra, and its largest city is Sydney.\"], 'largest city': [\"Australia's capital is Canberra, and its largest city is Sydney.\"]}\n"
     ]
    }
   ],
   "source": [
    "print(keyword_sentence_mapping)"
   ]
  },
  {
   "cell_type": "markdown",
   "metadata": {},
   "source": [
    "### Part V: Generate distractors (false MC options)\n",
    "\n",
    "Now that we have the sentences that correspond to each keyword, let's now create our MC options by adding the false options. "
   ]
  },
  {
   "cell_type": "markdown",
   "metadata": {},
   "source": [
    "First, let's use WordNet to get our distractors. Wordnet is a lexical database that connects words to semantic relations (so, for example, words that are synonyms are grouped together, even if they're proper nouns). WordNet is a \"generalization\" of a thesaurus, where, for example, a table and a chair might be link together because they're part of the same set (here, a kitchen set).\n",
    "\n",
    "Here's an explanation of how WordNet works: https://wordnet.princeton.edu/"
   ]
  },
  {
   "cell_type": "code",
   "execution_count": 18,
   "metadata": {},
   "outputs": [],
   "source": [
    "def get_distractors_wordnet(syn, word):\n",
    "    \n",
    "    \"\"\"\n",
    "    \n",
    "        Uses WordNet to find words that can be used as distractors for MC questions\n",
    "    \n",
    "    \"\"\"\n",
    "    \n",
    "    distractors = []\n",
    "    \n",
    "    word = word.lower()\n",
    "    \n",
    "    orig_word = word\n",
    "    \n",
    "    if len(word.split()) > 0:\n",
    "        word = word.replace(\" \", \"_\")\n",
    "        \n",
    "    # get any hypernyms (words whose meaning includes the meaning of a more specific word)\n",
    "    # e.g., \"animal\" is a hypernym of \"elephant\"\n",
    "    # and any hyponyms (words that denote a subcategory of a more general class)\n",
    "    # e.g., \"elephant\" is a hyponym of \"animal\"\n",
    "    \n",
    "    hypernym = syn.hypernyms()\n",
    "    if len(hypernym) == 0:\n",
    "        return distractors\n",
    "    \n",
    "    # find potential words that can be used as hypernyms/hyponyms\n",
    "    for item in hypernym[0].hyponyms():\n",
    "        name = item.lemmas()[0].name()\n",
    "        \n",
    "        if name == orig_word:\n",
    "            continue\n",
    "        name = name.replace(\"_\", \" \") # los_angeles -> los angeles\n",
    "        name = \" \".join(w.capitalize() for w in name.split()) # los angeles -> Los Angeles\n",
    "        if name is not None and name not in distractors:\n",
    "            distractors.append(name)\n",
    "            \n",
    "    return distractors\n",
    "    "
   ]
  },
  {
   "cell_type": "code",
   "execution_count": 19,
   "metadata": {},
   "outputs": [],
   "source": [
    "def get_wordsense(sent, word):\n",
    "    \n",
    "    \"\"\"\n",
    "    \n",
    "        Get a sentence of the meaning of a word, in context, using (1) Lesk algorithm and (2) max similarity\n",
    "        Useful for word sense disambiguation tasks (e.g., one word means different things, \n",
    "        based on context)\n",
    "    \n",
    "        Paper: https://thesai.org/Downloads/Volume11No3/Paper_30-Adapted_Lesk_Algorithm.pdf\n",
    "        \n",
    "        The goal here is to see if the word has synonyms (or words close in meaning)\n",
    "        that we could potentially use as answer choices\n",
    "        \n",
    "    \"\"\"\n",
    "    \n",
    "    word = word.lower()\n",
    "    \n",
    "    if len(word.split()) > 0:\n",
    "        word = word.replace(\" \", \"_\")\n",
    "        \n",
    "    # get set of synonyms\n",
    "    synsets = wn.synsets(word, 'n')\n",
    "    \n",
    "    if synsets:\n",
    "        \n",
    "        # get similarity between possible synsets of all words in \n",
    "        # context sentence and possible synsets of ambiguous words, \n",
    "        # to determine \"context\" of the word of interest and what it \n",
    "        # \"should\" mean\n",
    "        wup = max_similarity(sent, word, \"wup\", pos = 'n')\n",
    "        \n",
    "        # use Lesk algorithm, which will assume that words in the same\n",
    "        # \"neighborhood\", or area of text, will tend to share the same topic. \n",
    "    \n",
    "        adapted_lesk_output = adapted_lesk(sent, word, pos = \"n\")\n",
    "        lowest_index = min(synsets.index(wup), synsets.index(adapted_lesk_output))\n",
    "        return synsets[lowest_index]\n",
    "    else:\n",
    "        print(f\"No synonyms found for the word {word}\")\n",
    "        return None\n",
    "    \n",
    "    \n",
    "    "
   ]
  },
  {
   "cell_type": "code",
   "execution_count": 20,
   "metadata": {},
   "outputs": [],
   "source": [
    "def get_distractors_conceptnet(word):\n",
    "    \n",
    "    \"\"\"\n",
    "    \n",
    "        Get distractors using ConceptNet, which connects words and\n",
    "        phrases in a knowledge graph, and uses distance metrics to \n",
    "        calculate similarity\n",
    "        \n",
    "        Links:\n",
    "            http://conceptnet.io/\n",
    "            https://arxiv.org/pdf/1612.03975.pdf\n",
    "    \n",
    "    \"\"\"\n",
    "    \n",
    "    word = word.lower()\n",
    "    original_word = word\n",
    "    if len(word.split()) > 0:\n",
    "        word = word.replace(\" \", \"_\")\n",
    "\n",
    "    distractor_list = []\n",
    "\n",
    "    # get url to get ConceptNet graph\n",
    "    url = f\"http://api.conceptnet.io/query?node=/c/en/{word}/n&rel=/r/PartOf&start=/c/en/{word}&limit=5\"\n",
    "\n",
    "    obj = requests.get(url).json()\n",
    "    \n",
    "    for edge in obj[\"edges\"]:\n",
    "        \n",
    "        link = edge[\"end\"][\"term\"]\n",
    "        \n",
    "        url2 = f\"http://api.conceptnet.io/query?node={link}&rel=/r/PartOf&end={link}&limit=10\"\n",
    "        \n",
    "        obj2 = requests.get(url2).json()\n",
    "        \n",
    "        for edge in obj2[\"edges\"]:\n",
    "            word2 = edge[\"start\"][\"label\"]\n",
    "            \n",
    "            if word2 not in distractor_list and original_word.lower() not in word2.lower():\n",
    "                distractor_list.append(word2)\n",
    "                \n",
    "    return distractor_list\n",
    "        \n",
    "        \n",
    "        "
   ]
  },
  {
   "cell_type": "markdown",
   "metadata": {},
   "source": [
    "Now, we have our algorithms in place to get our distractors (our options that we want to use in the multiple-choice questions). Let's begin to implement them. "
   ]
  },
  {
   "cell_type": "code",
   "execution_count": 21,
   "metadata": {},
   "outputs": [],
   "source": [
    "key_distractor_list = {}"
   ]
  },
  {
   "cell_type": "code",
   "execution_count": 22,
   "metadata": {},
   "outputs": [],
   "source": [
    "def get_distractors(keyword_sentence_mapping):\n",
    "    \n",
    "    \"\"\"\n",
    "    \n",
    "        For each of our keywords (each of which denote a key \"topic\" \n",
    "        of our text, get distractors that we can use as alternative\n",
    "        options for MC questions)\n",
    "        \n",
    "    \"\"\"\n",
    "    # get output dict to use\n",
    "    key_distractor_list = {}\n",
    "    \n",
    "    # loop through our keywords and sentences for each keyword\n",
    "    for keyword in keyword_sentence_mapping:\n",
    "\n",
    "        # check to see if we're going to have synonyms to use\n",
    "        wordsense = get_wordsense(keyword_sentence_mapping[keyword][0], keyword)\n",
    "\n",
    "        # if we have synonyms, use WordNet to get hypernyms/hyponyms\n",
    "        if wordsense:\n",
    "            distractors = get_distractors_wordnet(wordsense, keyword)\n",
    "            # if we can't get any from WordNet, use ConceptNet\n",
    "            if len(distractors) == 0:\n",
    "                distractors = get_distractors_conceptnet(keyword)\n",
    "            if len(distractors) != 0:\n",
    "                key_distractor_list[keyword] = distractors\n",
    "\n",
    "        # otherwise, use ConceptNet\n",
    "        else:\n",
    "            distractors = get_distractors_conceptnet(keyword)\n",
    "\n",
    "            if len(distractors) != 0:\n",
    "                key_distractor_list[keyword] = distractors\n",
    "                \n",
    "    return key_distractor_list"
   ]
  },
  {
   "cell_type": "markdown",
   "metadata": {},
   "source": [
    "Now, let's get our distractors"
   ]
  },
  {
   "cell_type": "code",
   "execution_count": 23,
   "metadata": {},
   "outputs": [],
   "source": [
    "key_distractor_list = {}"
   ]
  },
  {
   "cell_type": "code",
   "execution_count": 24,
   "metadata": {},
   "outputs": [
    {
     "name": "stdout",
     "output_type": "stream",
     "text": [
      "No synonyms found for the word sovereign_country\n",
      "No synonyms found for the word australian_continent\n",
      "No synonyms found for the word largest_city\n"
     ]
    }
   ],
   "source": [
    "key_distractor_list = get_distractors(keyword_sentence_mapping)"
   ]
  },
  {
   "cell_type": "markdown",
   "metadata": {},
   "source": [
    "Now that we've successfully obtained the distractors, let's see how the options look:"
   ]
  },
  {
   "cell_type": "code",
   "execution_count": 25,
   "metadata": {},
   "outputs": [],
   "source": [
    "# initialize our question\n",
    "question_num = 1"
   ]
  },
  {
   "cell_type": "code",
   "execution_count": 26,
   "metadata": {},
   "outputs": [
    {
     "name": "stdout",
     "output_type": "stream",
     "text": [
      "1 In 1770, ___________'s eastern half was claimed by Great Britain and initially settled through penal transportation to the colony of New South Wales from 26 January 1788, a date which became ___________'s national day.\n",
      "\ta) Canberra\n",
      "\tb) Eyre\n",
      "\tc) Moreton Bay\n",
      "\td) Australia\n",
      "\n",
      "More options: ['Simpson Desert', 'Eyre Peninsula', 'Namoi', 'Darling', 'Nullarbor Plain', 'Northern Territory', 'South America', 'Gondwanaland', 'Africa', 'Eurasia', 'Old World']\n",
      "\n",
      "\n",
      "=====================================\n",
      "2 Australia, officially known as the Commonwealth of Australia, is a sovereign country comprising the mainland of the Australian continent, the ___________ of Tasmania, and numerous smaller ___________s.\n",
      "\ta) Cape\n",
      "\tb) Beachfront\n",
      "\tc) Island\n",
      "\td) Archipelago\n",
      "\n",
      "More options: ['Coastal Plain', 'Floor', 'Foreland', 'Forest', 'Isthmus', 'Landmass', 'Mainland', 'Neck', 'Oxbow', 'Peninsula', 'Plain', 'Slash', 'Wonderland']\n",
      "\n",
      "\n",
      "=====================================\n",
      "3 In 1770, Australia's eastern half was claimed by Great Britain and initially settled through penal transportation to the ___________ of New South Wales from 26 January 1788, a date which became Australia's national day.\n",
      "\ta) Colony\n",
      "\tb) Administration\n",
      "\tc) Christendom\n",
      "\td) Church\n",
      "\n",
      "More options: ['College', 'Constituency', 'Corps', 'Diaspora', 'Electoral College', 'Immigration', 'Inspectorate', 'Jury', 'Leadership', 'Membership', 'Militia', 'Occupational Group', 'Opposition', 'Panel', 'Public', 'Registration', 'Representation', 'Sacred College', 'School', 'Staff', 'Ulema', 'University', 'Vote']\n",
      "\n",
      "\n",
      "=====================================\n",
      "4 Australia, officially known as the ___________ of Australia, is a sovereign country comprising the mainland of the Australian continent, the island of Tasmania, and numerous smaller islands.\n",
      "\ta) American State\n",
      "\tb) Commonwealth\n",
      "\tc) Canadian Province\n",
      "\td) Australian State\n",
      "\n",
      "More options: ['Eparchy', 'Italian Region', 'Soviet Socialist Republic']\n",
      "\n",
      "\n",
      "=====================================\n",
      "5 The ___________ grew steadily in subsequent decades, and by the time of an 1850s gold rush, most of the continent had been explored by European settlers and an additional five self-governing crown colonies established.\n",
      "\ta) Actinoid\n",
      "\tb) Association\n",
      "\tc) Population\n",
      "\td) Arrangement\n",
      "\n",
      "More options: ['Biological Group', 'Circuit', 'Citizenry', 'Collection', 'Community', 'Edition', 'Electron Shell', 'Ethnic Group', 'Halogen', 'Kingdom', 'Multitude', 'People', 'Race', 'Rare Earth', 'Sainthood', 'Series', 'Social Group', 'Straggle', 'Subgroup', 'Swarm', 'System', 'Varna', 'World']\n",
      "\n",
      "\n",
      "=====================================\n",
      "6 Australia, officially known as the Commonwealth of Australia, is a sovereign country comprising the ___________ of the Australian continent, the island of Tasmania, and numerous smaller islands.\n",
      "\ta) Cape\n",
      "\tb) Beachfront\n",
      "\tc) Archipelago\n",
      "\td) Mainland\n",
      "\n",
      "More options: ['Coastal Plain', 'Floor', 'Foreland', 'Forest', 'Island', 'Isthmus', 'Landmass', 'Neck', 'Oxbow', 'Peninsula', 'Plain', 'Slash', 'Wonderland']\n",
      "\n",
      "\n",
      "=====================================\n",
      "7 The population grew steadily in subsequent decades, and by the time of an 1850s gold rush, most of the ___________ had been explored by European settlers and an additional five self-governing crown colonies established.\n",
      "\ta) Switzerland\n",
      "\tb) France\n",
      "\tc) Continent\n",
      "\td) Ukraine\n",
      "\n",
      "More options: ['Austria-Hungary', 'Czech Republic', 'Ireland', 'Slovakia', 'Liechtenstein']\n",
      "\n",
      "\n",
      "=====================================\n",
      "8 In 1770, Australia's eastern half was claimed by Great Britain and initially settled through penal transportation to the colony of New South Wales from 26 ___________ 1788, a date which became Australia's national day.\n",
      "\ta) August\n",
      "\tb) April\n",
      "\tc) January\n",
      "\td) December\n",
      "\n",
      "More options: ['February', 'January', 'July', 'June', 'March', 'May', 'November', 'October', 'September']\n",
      "\n",
      "\n",
      "=====================================\n",
      "9 Australia, officially known as the Commonwealth of Australia, is a sovereign country comprising the mainland of the Australian continent, the island of ___________, and numerous smaller islands.\n",
      "\ta) Eyre\n",
      "\tb) Canberra\n",
      "\tc) Tasmania\n",
      "\td) Moreton Bay\n",
      "\n",
      "More options: ['Simpson Desert', 'Eyre Peninsula', 'Namoi', 'Darling', 'Australian Alps', 'Nullarbor Plain', 'Northern Territory']\n",
      "\n",
      "\n",
      "=====================================\n",
      "10 Australia's ___________ is Canberra, and its largest city is Sydney.\n",
      "\ta) County Seat\n",
      "\tb) Capital\n",
      "\tc) County Town\n",
      "\td) See\n",
      "\n",
      "More options: []\n",
      "\n",
      "\n",
      "=====================================\n",
      "11 Australia's capital is ___________, and its largest city is Sydney.\n",
      "\ta) Moreton Bay\n",
      "\tb) Canberra\n",
      "\tc) Eyre\n",
      "\td) Simpson Desert\n",
      "\n",
      "More options: ['Eyre Peninsula', 'Namoi', 'Darling', 'Australian Alps', 'Nullarbor Plain', 'Northern Territory']\n",
      "\n",
      "\n",
      "=====================================\n"
     ]
    }
   ],
   "source": [
    "for each in key_distractor_list:\n",
    "    \n",
    "    # get the sentence that we want to ask about\n",
    "    sentence = keyword_sentence_mapping[each][0]\n",
    "    \n",
    "    pattern = re.compile(each, re.IGNORECASE)\n",
    "    \n",
    "    # add blank for our answer\n",
    "    output = pattern.sub(\"___________\", sentence)\n",
    "    \n",
    "    # print out our question\n",
    "    question = f\"{question_num} {output}\"\n",
    "    print(question)\n",
    "    \n",
    "    # populate our choices\n",
    "    choices = [each.capitalize()] + key_distractor_list[each]\n",
    "    \n",
    "    top_4_options = choices[:4]\n",
    "    random.shuffle(top_4_options)\n",
    "    option_choices = ['a', 'b', 'c', 'd']\n",
    "    \n",
    "    for idx, choice in enumerate(top_4_options):\n",
    "        print(f\"\\t{option_choices[idx]}) {choice}\")\n",
    "        \n",
    "    # let's see what the other options were:\n",
    "    print(f\"\\nMore options: {choices[4:]}\\n\\n\")\n",
    "    \n",
    "    # update the number for our question\n",
    "    question_num = question_num + 1\n",
    "    print(\"=====================================\")\n",
    "    \n",
    "    "
   ]
  },
  {
   "cell_type": "code",
   "execution_count": 27,
   "metadata": {},
   "outputs": [
    {
     "data": {
      "text/plain": [
       "{'australia': ['Eyre',\n",
       "  'Moreton Bay',\n",
       "  'Canberra',\n",
       "  'Simpson Desert',\n",
       "  'Eyre Peninsula',\n",
       "  'Namoi',\n",
       "  'Darling',\n",
       "  'Nullarbor Plain',\n",
       "  'Northern Territory',\n",
       "  'South America',\n",
       "  'Gondwanaland',\n",
       "  'Africa',\n",
       "  'Eurasia',\n",
       "  'Old World'],\n",
       " 'island': ['Archipelago',\n",
       "  'Beachfront',\n",
       "  'Cape',\n",
       "  'Coastal Plain',\n",
       "  'Floor',\n",
       "  'Foreland',\n",
       "  'Forest',\n",
       "  'Isthmus',\n",
       "  'Landmass',\n",
       "  'Mainland',\n",
       "  'Neck',\n",
       "  'Oxbow',\n",
       "  'Peninsula',\n",
       "  'Plain',\n",
       "  'Slash',\n",
       "  'Wonderland'],\n",
       " 'colony': ['Administration',\n",
       "  'Christendom',\n",
       "  'Church',\n",
       "  'College',\n",
       "  'Constituency',\n",
       "  'Corps',\n",
       "  'Diaspora',\n",
       "  'Electoral College',\n",
       "  'Immigration',\n",
       "  'Inspectorate',\n",
       "  'Jury',\n",
       "  'Leadership',\n",
       "  'Membership',\n",
       "  'Militia',\n",
       "  'Occupational Group',\n",
       "  'Opposition',\n",
       "  'Panel',\n",
       "  'Public',\n",
       "  'Registration',\n",
       "  'Representation',\n",
       "  'Sacred College',\n",
       "  'School',\n",
       "  'Staff',\n",
       "  'Ulema',\n",
       "  'University',\n",
       "  'Vote'],\n",
       " 'commonwealth': ['American State',\n",
       "  'Australian State',\n",
       "  'Canadian Province',\n",
       "  'Eparchy',\n",
       "  'Italian Region',\n",
       "  'Soviet Socialist Republic'],\n",
       " 'population': ['Actinoid',\n",
       "  'Arrangement',\n",
       "  'Association',\n",
       "  'Biological Group',\n",
       "  'Circuit',\n",
       "  'Citizenry',\n",
       "  'Collection',\n",
       "  'Community',\n",
       "  'Edition',\n",
       "  'Electron Shell',\n",
       "  'Ethnic Group',\n",
       "  'Halogen',\n",
       "  'Kingdom',\n",
       "  'Multitude',\n",
       "  'People',\n",
       "  'Race',\n",
       "  'Rare Earth',\n",
       "  'Sainthood',\n",
       "  'Series',\n",
       "  'Social Group',\n",
       "  'Straggle',\n",
       "  'Subgroup',\n",
       "  'Swarm',\n",
       "  'System',\n",
       "  'Varna',\n",
       "  'World'],\n",
       " 'mainland': ['Archipelago',\n",
       "  'Beachfront',\n",
       "  'Cape',\n",
       "  'Coastal Plain',\n",
       "  'Floor',\n",
       "  'Foreland',\n",
       "  'Forest',\n",
       "  'Island',\n",
       "  'Isthmus',\n",
       "  'Landmass',\n",
       "  'Neck',\n",
       "  'Oxbow',\n",
       "  'Peninsula',\n",
       "  'Plain',\n",
       "  'Slash',\n",
       "  'Wonderland'],\n",
       " 'continent': ['France',\n",
       "  'Switzerland',\n",
       "  'Ukraine',\n",
       "  'Austria-Hungary',\n",
       "  'Czech Republic',\n",
       "  'Ireland',\n",
       "  'Slovakia',\n",
       "  'Liechtenstein'],\n",
       " 'january': ['April',\n",
       "  'August',\n",
       "  'December',\n",
       "  'February',\n",
       "  'January',\n",
       "  'July',\n",
       "  'June',\n",
       "  'March',\n",
       "  'May',\n",
       "  'November',\n",
       "  'October',\n",
       "  'September'],\n",
       " 'tasmania': ['Eyre',\n",
       "  'Moreton Bay',\n",
       "  'Canberra',\n",
       "  'Simpson Desert',\n",
       "  'Eyre Peninsula',\n",
       "  'Namoi',\n",
       "  'Darling',\n",
       "  'Australian Alps',\n",
       "  'Nullarbor Plain',\n",
       "  'Northern Territory'],\n",
       " 'capital': ['County Seat', 'County Town', 'See'],\n",
       " 'canberra': ['Eyre',\n",
       "  'Moreton Bay',\n",
       "  'Simpson Desert',\n",
       "  'Eyre Peninsula',\n",
       "  'Namoi',\n",
       "  'Darling',\n",
       "  'Australian Alps',\n",
       "  'Nullarbor Plain',\n",
       "  'Northern Territory']}"
      ]
     },
     "execution_count": 27,
     "metadata": {},
     "output_type": "execute_result"
    }
   ],
   "source": [
    "key_distractor_list"
   ]
  },
  {
   "cell_type": "code",
   "execution_count": null,
   "metadata": {},
   "outputs": [],
   "source": []
  }
 ],
 "metadata": {
  "kernelspec": {
   "display_name": "test_qa_venv",
   "language": "python",
   "name": "test_qa_venv"
  },
  "language_info": {
   "codemirror_mode": {
    "name": "ipython",
    "version": 3
   },
   "file_extension": ".py",
   "mimetype": "text/x-python",
   "name": "python",
   "nbconvert_exporter": "python",
   "pygments_lexer": "ipython3",
   "version": "3.6.12"
  }
 },
 "nbformat": 4,
 "nbformat_minor": 4
}
